{
 "cells": [
  {
   "cell_type": "markdown",
   "id": "a6fd7c1d",
   "metadata": {},
   "source": [
    "# Insertion sort"
   ]
  },
  {
   "cell_type": "code",
   "execution_count": 1,
   "id": "106457f9",
   "metadata": {},
   "outputs": [
    {
     "name": "stdout",
     "output_type": "stream",
     "text": [
      "Sorted array is: [5, 6, 11, 12, 13]\n"
     ]
    }
   ],
   "source": [
    "def insertion_sort(arr):\n",
    "    \n",
    "    for i in range(1, len(arr)):\n",
    "        key = arr[i]\n",
    "        \n",
    "        j = i - 1\n",
    "        while j >= 0 and key < arr[j]:\n",
    "            arr[j + 1] = arr[j]\n",
    "            j -= 1\n",
    "        arr[j + 1] = key\n",
    "\n",
    "\n",
    "arr = [12, 11, 13, 5, 6]\n",
    "insertion_sort(arr)\n",
    "print(\"Sorted array is:\", arr)\n"
   ]
  },
  {
   "cell_type": "markdown",
   "id": "f0acd4a0",
   "metadata": {},
   "source": [
    "# Preorder, Inorder, Postorder"
   ]
  },
  {
   "cell_type": "code",
   "execution_count": 2,
   "id": "ebab6df5",
   "metadata": {},
   "outputs": [
    {
     "name": "stdout",
     "output_type": "stream",
     "text": [
      "Preorder traversal: [1, 2, 4, 5, 3, 6, 7]\n",
      "Inorder traversal: [4, 2, 5, 1, 6, 3, 7]\n",
      "Postorder traversal: [4, 5, 2, 6, 7, 3, 1]\n"
     ]
    }
   ],
   "source": [
    "class TreeNode:\n",
    "    def __init__(self, value=0, left=None, right=None):\n",
    "        self.value = value\n",
    "        self.left = left\n",
    "        self.right = right\n",
    "\n",
    "def preorder_traversal(root):\n",
    "    if root is None:\n",
    "        return []\n",
    "    return [root.value] + preorder_traversal(root.left) + preorder_traversal(root.right)\n",
    "\n",
    "def inorder_traversal(root):\n",
    "    if root is None:\n",
    "        return []\n",
    "    return inorder_traversal(root.left) + [root.value] + inorder_traversal(root.right)\n",
    "\n",
    "def postorder_traversal(root):\n",
    "    if root is None:\n",
    "        return []\n",
    "    return postorder_traversal(root.left) + postorder_traversal(root.right) + [root.value]\n",
    "\n",
    "\n",
    "root = TreeNode(1)\n",
    "root.left = TreeNode(2)\n",
    "root.right = TreeNode(3)\n",
    "root.left.left = TreeNode(4)\n",
    "root.left.right = TreeNode(5)\n",
    "root.right.left = TreeNode(6)\n",
    "root.right.right = TreeNode(7)\n",
    "print(\"Preorder traversal:\", preorder_traversal(root))\n",
    "print(\"Inorder traversal:\", inorder_traversal(root))\n",
    "print(\"Postorder traversal:\", postorder_traversal(root))\n"
   ]
  },
  {
   "cell_type": "markdown",
   "id": "ccd92b7a",
   "metadata": {},
   "source": [
    "# Levelorder and Height"
   ]
  },
  {
   "cell_type": "code",
   "execution_count": 6,
   "id": "66c4be0e",
   "metadata": {},
   "outputs": [
    {
     "name": "stdout",
     "output_type": "stream",
     "text": [
      "1 \n",
      "2 3 \n",
      "4 5 6 7 \n",
      "9 11 \n",
      "12 13 5\n"
     ]
    }
   ],
   "source": [
    "class node:\n",
    "    def __init__(self,data):\n",
    "        self.value=data\n",
    "        self.left=None\n",
    "        self.right=None\n",
    "    \n",
    "\n",
    "def levelorder(root):\n",
    "    q=[root]\n",
    "    q.append(None)\n",
    "    while len(q)>0:\n",
    "        curr=q.pop(0)\n",
    "        \n",
    "        if curr==None:\n",
    "            if len(q)==0:\n",
    "                break\n",
    "            else: \n",
    "                print()\n",
    "                q.append(None)\n",
    "        else:\n",
    "            print(curr.value,end=\" \")\n",
    "            if curr.left!=None:\n",
    "                q.append(curr.left)\n",
    "            if curr.right!=None:\n",
    "                q.append(curr.right)\n",
    "def height(root):\n",
    "    if root==None:\n",
    "        return 0\n",
    "    lh=height(root.left)\n",
    "    rh=height(root.right)\n",
    "    return max(lh,rh)+1\n",
    "\n",
    "\n",
    "if __name__ == \"__main__\":\n",
    "    root=node(1)\n",
    "    root.left=node(2)\n",
    "    root.right=node(3)\n",
    "    root.left.left=node(4)\n",
    "    root.left.right=node(5)\n",
    "    root.right.left=node(6)\n",
    "    root.right.right=node(7)\n",
    "    root.left.right.left=node(9)\n",
    "    #root.left.right.right=node(10)\n",
    "    root.right.right.right=node(11)\n",
    "    root.left.right.left.left=node(12)\n",
    "    root.left.right.left.right=node(13)\n",
    "    levelorder(root)\n",
    "    print(height(root))\n",
    "    \n",
    "    \n",
    "            "
   ]
  },
  {
   "cell_type": "code",
   "execution_count": null,
   "id": "066764b4",
   "metadata": {},
   "outputs": [],
   "source": []
  },
  {
   "cell_type": "code",
   "execution_count": 1,
   "id": "6ff42dc7",
   "metadata": {},
   "outputs": [
    {
     "name": "stdout",
     "output_type": "stream",
     "text": [
      "1 \n",
      "2 3 \n",
      "4 5 6 6 \n",
      "7 11 \n",
      "12 13 \n",
      " Height of tree is :  5\n",
      "\n",
      " leaf node is :  None\n"
     ]
    }
   ],
   "source": [
    "class node:\n",
    "    def __init__(self,data):\n",
    "        self.value=data\n",
    "        self.left=None\n",
    "        self.right=None\n",
    "    \n",
    "\n",
    "def levelorder(root):\n",
    "    q=[root]\n",
    "    q.append(None)\n",
    "    while len(q)>0:\n",
    "        curr=q.pop(0)\n",
    "        \n",
    "        if curr==None:\n",
    "            if len(q)==0:\n",
    "                break\n",
    "            else: \n",
    "                print()\n",
    "                q.append(None)\n",
    "        else:\n",
    "            print(curr.value,end=\" \")\n",
    "            if curr.left!=None:\n",
    "                q.append(curr.left)\n",
    "            if curr.right!=None:\n",
    "                q.append(curr.right)\n",
    "def height(root):\n",
    "    if root==None:\n",
    "        return 0\n",
    "    lh=height(root.left)\n",
    "    rh=height(root.right)\n",
    "    return max(lh,rh)+1\n",
    "\n",
    "def leaf_nodes(root):\n",
    "    if root is None:\n",
    "        return []\n",
    "    if root.left is None and root.right is None:\n",
    "        return [root.value]\n",
    "    leafs = []\n",
    "\n",
    "\n",
    "if __name__ == \"__main__\":\n",
    "    root=node(1)\n",
    "    root.left=node(2)\n",
    "    root.right=node(3)\n",
    "    root.left.left=node(4)\n",
    "    root.left.right=node(5)\n",
    "    root.right.left=node(6)\n",
    "    root.right.right=node(6)\n",
    "    root.left.right.left=node(7)\n",
    "    #root.left.right.right=node(10)\n",
    "    root.right.right.right=node(11)\n",
    "    root.left.right.left.left=node(12)\n",
    "    root.left.right.left.right=node(13)\n",
    "    levelorder(root)\n",
    "    print(\"\\n Height of tree is : \",height(root))\n",
    "    print(\"\\n leaf node is : \",leaf_nodes(root))\n",
    "    \n",
    "    \n",
    "            "
   ]
  },
  {
   "cell_type": "markdown",
   "id": "ae3beea6",
   "metadata": {},
   "source": [
    "# Bottom view"
   ]
  },
  {
   "cell_type": "code",
   "execution_count": 3,
   "id": "1ce9aeb5",
   "metadata": {},
   "outputs": [
    {
     "name": "stdout",
     "output_type": "stream",
     "text": [
      "Bottom view of the binary tree is: \n",
      "4 9 12 10 13 11 \n"
     ]
    }
   ],
   "source": [
    "class Node:\n",
    "    def __init__(self, value):\n",
    "        self.value = value\n",
    "        self.left = None\n",
    "        self.right = None\n",
    "\n",
    "class NodeData:\n",
    "    def __init__(self, node, key):\n",
    "        self.node = node\n",
    "        self.key = key\n",
    "\n",
    "def bottomview(root):\n",
    "    if not root:\n",
    "        return\n",
    "    \n",
    "    # Initialize a queue for level order traversal\n",
    "    temp = NodeData(root, 0)\n",
    "    q = [temp]\n",
    "    \n",
    "    # Dictionary to store the last node's value at each horizontal distance\n",
    "    key_d = {}\n",
    "    \n",
    "    while q:\n",
    "        curr = q.pop(0)\n",
    "    \n",
    "        # Update the dictionary with the current node for the current horizontal distance\n",
    "        key_d[curr.key] = curr.node.value\n",
    "        \n",
    "        # Enqueue left child with horizontal distance decremented by 1\n",
    "        if curr.node.left:\n",
    "            temp = NodeData(curr.node.left, curr.key - 1)\n",
    "            q.append(temp)\n",
    "        # Enqueue right child with horizontal distance incremented by 1\n",
    "        if curr.node.right:\n",
    "            temp = NodeData(curr.node.right, curr.key + 1)\n",
    "            q.append(temp)\n",
    "    \n",
    "    # Print the values stored in key_d sorted by their horizontal distance\n",
    "    for key in sorted(key_d.keys()):\n",
    "        print(key_d[key], end=' ')\n",
    "    print()\n",
    "\n",
    "if __name__ == \"__main__\":\n",
    "    root = Node(1)\n",
    "    root.left = Node(2)\n",
    "    root.right = Node(3)\n",
    "    root.left.left = Node(4)\n",
    "    root.left.right = Node(5)\n",
    "    root.right.left = Node(6)\n",
    "    root.right.right = Node(7)\n",
    "    root.right.left.right = Node(8)\n",
    "    root.right.left.left = Node(9)\n",
    "    root.right.right.left = Node(10)\n",
    "    root.right.right.right = Node(11)\n",
    "    root.right.right.left.left = Node(12)\n",
    "    root.right.right.left.right = Node(13)\n",
    "    \n",
    "    print(\"Bottom view of the binary tree is: \")\n",
    "    bottomview(root)"
   ]
  },
  {
   "cell_type": "markdown",
   "id": "d5aa552c",
   "metadata": {},
   "source": [
    "# Top view"
   ]
  },
  {
   "cell_type": "code",
   "execution_count": 7,
   "id": "0fa1d0c5",
   "metadata": {},
   "outputs": [
    {
     "name": "stdout",
     "output_type": "stream",
     "text": [
      "4\n",
      "2\n",
      "1\n",
      "3\n",
      "7\n",
      "11\n"
     ]
    }
   ],
   "source": [
    "class Node:\n",
    "    def __init__(self,data):\n",
    "        self.value=data\n",
    "        self.left=None\n",
    "        self.right=None\n",
    "        \n",
    "class node_data:\n",
    "    def __init__(self,Node,hkey):\n",
    "        self.node = Node\n",
    "        self.hkey = hkey\n",
    "\n",
    "def topview(root):\n",
    "    temp = node_data(root,0)\n",
    "    q=[temp]\n",
    "    q.append(None)\n",
    "    dic={}\n",
    "    while len(q)>0:\n",
    "        curr=q.pop(0)\n",
    "        if curr==None:\n",
    "            if len(q)==0:\n",
    "                break\n",
    "            else:\n",
    "                q.append(None)\n",
    "        else:\n",
    "            if  curr.hkey not in dic.keys():\n",
    "                dic[curr.hkey]= curr.node.value\n",
    "            \n",
    "            if curr.node.left!=None:\n",
    "                temp = node_data(curr.node.left,curr.hkey-1)\n",
    "                q.append(temp)\n",
    "            if curr.node.right!=None:\n",
    "                temp = node_data(curr.node.right,curr.hkey+1)\n",
    "                q.append(temp)\n",
    "    for i in sorted(dic) :\n",
    "        print(dic[i])\n",
    "    \n",
    "if __name__ == \"__main__\":                             \n",
    "                                            \n",
    "    root=Node(1)                                        \n",
    "    root.left=Node(2)\n",
    "    root.right=Node(3)\n",
    "    \n",
    "    root.left.left=Node(4)\n",
    "    root.left.right=Node(5)\n",
    "    \n",
    "    root.right.left=Node(6)\n",
    "    root.right.right=Node(7)\n",
    "    \n",
    "    root.left.right.left=Node(9)\n",
    "    root.left.right.right=Node(10)\n",
    "    \n",
    "    root.right.right.right=Node(11)\n",
    "    \n",
    "    root.left.right.left.left=Node(12)\n",
    "    root.left.right.left.right=Node(13) \n",
    "\n",
    "    topview(root)"
   ]
  },
  {
   "cell_type": "code",
   "execution_count": null,
   "id": "0375536e",
   "metadata": {},
   "outputs": [],
   "source": []
  }
 ],
 "metadata": {
  "kernelspec": {
   "display_name": "Python 3 (ipykernel)",
   "language": "python",
   "name": "python3"
  },
  "language_info": {
   "codemirror_mode": {
    "name": "ipython",
    "version": 3
   },
   "file_extension": ".py",
   "mimetype": "text/x-python",
   "name": "python",
   "nbconvert_exporter": "python",
   "pygments_lexer": "ipython3",
   "version": "3.9.13"
  }
 },
 "nbformat": 4,
 "nbformat_minor": 5
}
