{
 "cells": [
  {
   "cell_type": "code",
   "execution_count": 3,
   "id": "571d8d64",
   "metadata": {},
   "outputs": [
    {
     "name": "stdout",
     "output_type": "stream",
     "text": [
      "Item 5 included (weight: 1, profit: 8)\n",
      "Item 1 included (weight: 1, profit: 5)\n",
      "Item 2 included (weight: 3, profit: 10)\n",
      "Item 3 included (weight: 5, profit: 15)\n",
      "Item 6 included (weight: 3, profit: 9)\n",
      "Item 7 included (weight: 2, profit: 4)\n",
      "Item 4 excluded (weight: 4, profit: 7)\n",
      "Total weight in knapsack: 15\n",
      "Total profit: 51\n"
     ]
    }
   ],
   "source": [
    "profit = [5, 10, 15, 7, 8, 9, 4]\n",
    "weight = [1, 3, 5, 4, 1, 3, 2]\n",
    "cap = 15\n",
    "\n",
    "# Step 1: Calculate profit-to-weight ratio and store in dictionary\n",
    "d = {}\n",
    "for i in range(len(profit)):\n",
    "    d[i] = float('{:.2f}'.format((profit[i] / weight[i])))\n",
    "# Step 2: Convert dictionary to list of tuples and sort by ratio in descendiwng order\n",
    "l = list(d.items())\n",
    "sorted_list = sorted(l, key=lambda x: x[1], reverse=True)\n",
    "\n",
    "# Step 3: Initialize variables for tracking total profit and weight\n",
    "total_profit = 0\n",
    "total_weight = 0\n",
    "\n",
    "# Step 4: Iterate over sorted list and add items to knapsack\n",
    "for index, ratio in sorted_list:\n",
    "    if total_weight + weight[index] <= cap:\n",
    "        total_weight += weight[index]\n",
    "        total_profit += profit[index]\n",
    "        print(f\"Item {index + 1} included (weight: {weight[index]}, profit: {profit[index]})\")\n",
    "    else:\n",
    "        print(f\"Item {index + 1} excluded (weight: {weight[index]}, profit: {profit[index]})\")\n",
    "\n",
    "print(f\"Total weight in knapsack: {total_weight}\")\n",
    "print(f\"Total profit: {total_profit}\")"
   ]
  },
  {
   "cell_type": "code",
   "execution_count": 3,
   "id": "bc83f4ac",
   "metadata": {},
   "outputs": [
    {
     "name": "stdout",
     "output_type": "stream",
     "text": [
      "51\n"
     ]
    }
   ],
   "source": [
    "#knapsack problem \n",
    "def calc_max(p,w,c,n):       \n",
    "    if n==0 or c==0:\n",
    "        return 0\n",
    "    if DP[n][c]!=-1:\n",
    "        return DP[n][c]\n",
    "    if w[n-1]<=c:\n",
    "        DP[n][c]=max(p[n-1] + calc_max(p,w,c-w[n-1],n-1),calc_max(p,w,c,n-1))\n",
    "        return DP[n][c]\n",
    "    else:\n",
    "        DP[n][c]=calc_max(p,w,c,n-1)\n",
    "        return DP[n][c]\n",
    "P=[5,10,15,7,8,9,4]\n",
    "W= [1,3,5,4,1,3,2]\n",
    "C=15\n",
    "N=len(P)\n",
    "DP=[[-1 for i in range(C+1)] for j in range(N+1)]\n",
    "print(calc_max(P,W,C,N))"
   ]
  },
  {
   "cell_type": "code",
   "execution_count": 4,
   "id": "02952c2c",
   "metadata": {},
   "outputs": [
    {
     "name": "stdout",
     "output_type": "stream",
     "text": [
      "[0, 0, 0, 0, 0, 0, 0, 0, 0, 0, 0, 0, 0, 0, 0, 0]\n",
      "[0, 5, 5, 5, 5, 5, 5, 5, 5, 5, 5, 5, 5, 5, 5, 5]\n",
      "[0, 5, 5, 10, 15, 15, 15, 15, 15, 15, 15, 15, 15, 15, 15, 15]\n",
      "[0, 5, 5, 10, 15, 15, 20, 20, 25, 30, 30, 30, 30, 30, 30, 30]\n",
      "[0, 5, 5, 10, 15, 15, 20, 20, 25, 30, 30, 30, 32, 37, 37, 37]\n",
      "[0, 8, 13, 13, 18, 23, 23, 28, 28, 33, 38, 38, 38, 40, 45, 45]\n",
      "[0, 8, 13, 13, 18, 23, 23, 28, 32, 33, 38, 38, 42, 47, 47, 47]\n",
      "[0, 8, 13, 13, 18, 23, 23, 28, 32, 33, 38, 38, 42, 47, 47, 51]\n"
     ]
    }
   ],
   "source": [
    "#knapsack problem\n",
    "def table(p,w,c,n):    \n",
    "    for i in range(1,n+1):\n",
    "        for j in range(1,c+1):\n",
    "            if w[i-1]<=j:\n",
    "                dp[i][j] = max(dp[i-1][j],dp[i-1][j-w[i-1]]+p[i-1])\n",
    "            else:\n",
    "                dp[i][j]=dp[i-1][j]\n",
    "\n",
    "p=[5,10,15,7,8,9,4]\n",
    "w=[1,3,5,4,1,3,2]\n",
    "c=15 \n",
    "n=len(p)\n",
    "dp=[[0 for _ in range(c+1)] for _ in range(n+1)]\n",
    "table(p,w,c,n)\n",
    "\n",
    "for i in dp:\n",
    "    print(i)"
   ]
  },
  {
   "cell_type": "code",
   "execution_count": null,
   "id": "394cf136",
   "metadata": {},
   "outputs": [],
   "source": []
  }
 ],
 "metadata": {
  "kernelspec": {
   "display_name": "Python 3 (ipykernel)",
   "language": "python",
   "name": "python3"
  },
  "language_info": {
   "codemirror_mode": {
    "name": "ipython",
    "version": 3
   },
   "file_extension": ".py",
   "mimetype": "text/x-python",
   "name": "python",
   "nbconvert_exporter": "python",
   "pygments_lexer": "ipython3",
   "version": "3.11.5"
  }
 },
 "nbformat": 4,
 "nbformat_minor": 5
}
