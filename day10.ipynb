{
 "cells": [
  {
   "cell_type": "code",
   "execution_count": 5,
   "id": "b5f8c059",
   "metadata": {
    "scrolled": true
   },
   "outputs": [
    {
     "name": "stdout",
     "output_type": "stream",
     "text": [
      "1\n",
      "3 2\n",
      "4 5 6 7\n"
     ]
    }
   ],
   "source": [
    "from collections import deque\n",
    "\n",
    "class TreeNode:\n",
    "    def __init__(self, value):\n",
    "        self.value = value\n",
    "        self.left = None\n",
    "        self.right = None\n",
    "\n",
    "def zigzag_traversal(root):\n",
    "    if not root:\n",
    "        return []\n",
    "\n",
    "    result = []\n",
    "    current_level = deque([root])\n",
    "    left_to_right = True\n",
    "\n",
    "    while current_level:\n",
    "        level_size = len(current_level)\n",
    "        current_values = []\n",
    "\n",
    "        for _ in range(level_size):\n",
    "            if left_to_right:\n",
    "                node = current_level.popleft()\n",
    "                current_values.append(node.value)\n",
    "                if node.left:\n",
    "                    current_level.append(node.left)\n",
    "                if node.right:\n",
    "                    current_level.append(node.right)\n",
    "            else:\n",
    "                node = current_level.pop()\n",
    "                current_values.append(node.value)\n",
    "                if node.right:\n",
    "                    current_level.appendleft(node.right)\n",
    "                if node.left:\n",
    "                    current_level.appendleft(node.left)\n",
    "\n",
    "        result.append(current_values)\n",
    "        left_to_right = not left_to_right\n",
    "\n",
    "    return result\n",
    "\n",
    "def print_zigzag_order(tree):\n",
    "    levels = zigzag_traversal(tree)\n",
    "    for level in levels:\n",
    "        print(\" \".join(map(str, level)))\n",
    "\n",
    "root = TreeNode(1)\n",
    "root.left = TreeNode(2)\n",
    "root.right = TreeNode(3)\n",
    "root.left.left = TreeNode(4)\n",
    "root.left.right = TreeNode(5)\n",
    "root.right.left = TreeNode(6)\n",
    "root.right.right = TreeNode(7)\n",
    "\n",
    "print_zigzag_order(root)"
   ]
  },
  {
   "cell_type": "code",
   "execution_count": 3,
   "id": "8f90de2d",
   "metadata": {},
   "outputs": [
    {
     "name": "stdout",
     "output_type": "stream",
     "text": [
      "DFS Traversal Order: ['A', 'B', 'D', 'E', 'F', 'C']\n"
     ]
    }
   ],
   "source": [
    "def Dfs(graph, start):\n",
    "    visited = set()  \n",
    "    traversal_order = []  \n",
    "\n",
    "    def dfs(node):\n",
    "        \n",
    "        visited.add(node)\n",
    "        traversal_order.append(node)\n",
    "\n",
    "        \n",
    "        for neighbor in sorted(graph[node]):\n",
    "            if neighbor not in visited:\n",
    "                dfs(neighbor)\n",
    "\n",
    "    \n",
    "    dfs(start)\n",
    "    \n",
    "    return traversal_order\n",
    "\n",
    "graph = {\n",
    "    'A': ['B', 'C'],\n",
    "    'B': ['A', 'D', 'E'],\n",
    "    'C': ['A', 'F'],\n",
    "    'D': ['B'],\n",
    "    'E': ['B', 'F'],\n",
    "    'F': ['C', 'E']\n",
    "}\n",
    "\n",
    "start_node = 'A'\n",
    "print(\"DFS Traversal Order:\", Dfs(graph, start_node))\n"
   ]
  },
  {
   "cell_type": "code",
   "execution_count": 11,
   "id": "0f1cf4f2",
   "metadata": {},
   "outputs": [
    {
     "name": "stdout",
     "output_type": "stream",
     "text": [
      "enter the node to traverse: 1\n",
      "1\n",
      "2\n",
      "5\n",
      "7\n",
      "6\n",
      "3\n",
      "4\n",
      "8\n",
      "9\n",
      "12\n",
      "13\n",
      "10\n",
      "11\n"
     ]
    }
   ],
   "source": [
    "def dfs(l,v,s,e):\n",
    "    if v[e]==False:\n",
    "        s.append(e)\n",
    "        v[e]=True\n",
    "    else:\n",
    "        return\n",
    "    for i in l[e]:\n",
    "        dfs(l,v,s,i[1])\n",
    "    print(s.pop(0))\n",
    "    \n",
    "if __name__ == \"__main__\":\n",
    "    v={}\n",
    "    for i in l:\n",
    "        v[i]=False\n",
    "    n= int(input('enter the node to traverse: '))\n",
    "    s=[]\n",
    "l= {1: [(1, 2, 0), (1, 3, 0)], 2: [(2, 1, 0), (2, 5, 0)], 3: [(3, 4, 0), \n",
    "        (3, 6, 0)], 4: [(4, 3, 0)], 5: [(5, 2, 0), (5, 7, 0), (5, 10, 0),\n",
    "        (5, 13, 0)], 6: [(6, 3, 0), (6, 7, 0)], 7: [(7, 5, 0), (7, 6, 0), \n",
    "        (7, 8, 0), (7, 9, 0)], 8: [(8, 7, 0)], 9: [(9, 7, 0), (9, 12, 0)], \n",
    "        10: [(10, 5, 0), (10, 11, 0)], 11: [(11, 10, 0)], 12: [(12, 9, 0), \n",
    "        (12, 13, 0)], 13: [(13, 5, 0), (13, 12, 0)]}\n",
    "dfs(l,v,s,n)"
   ]
  },
  {
   "cell_type": "code",
   "execution_count": 12,
   "id": "59608e3b",
   "metadata": {},
   "outputs": [
    {
     "name": "stdout",
     "output_type": "stream",
     "text": [
      "[1, 2, 3, 4, 5, 6, 7, 8, 9, 10, 11, 12, 13]\n"
     ]
    }
   ],
   "source": [
    "l1= [(1, 2, 0), (1, 3, 0),(2, 1, 0), (2, 5, 0), (3, 4, 0), \n",
    "        (3, 6, 0),(4, 3, 0),(5, 2, 0), (5, 7, 0), (5, 10, 0),\n",
    "        (5, 13, 0), (6, 3, 0), (6, 7, 0), (7, 5, 0), (7, 6, 0), \n",
    "        (7, 8, 0), (7, 9, 0),(8, 7, 0),(9, 7, 0), (9, 12, 0), \n",
    "        (10, 5, 0), (10, 11, 0),(11, 10, 0),(12, 9, 0), \n",
    "        (12, 13, 0),(13, 5, 0), (13, 12, 0)]\n",
    "node=[]\n",
    "for i in l1:\n",
    "    if i[0]not in node:\n",
    "        node.append(i[0])\n",
    "print(node)\n",
    "\n",
    "dic={}\n",
    "for i in node:\n",
    "    temp=[]\n",
    "    for j in l1:\n",
    "        if i==j[0]:\n",
    "            temp.append(j)\n",
    "            dic[i]=temp\n",
    "#print(dic)"
   ]
  },
  {
   "cell_type": "code",
   "execution_count": 13,
   "id": "84beb4e7",
   "metadata": {},
   "outputs": [
    {
     "name": "stdout",
     "output_type": "stream",
     "text": [
      "1\n",
      "1\n",
      "2\n",
      "3\n",
      "5\n",
      "4\n",
      "6\n",
      "7\n",
      "10\n",
      "13\n",
      "8\n",
      "9\n",
      "11\n",
      "12\n"
     ]
    }
   ],
   "source": [
    "def bfs(g,e):\n",
    "    q=[e]\n",
    "    v={}\n",
    "    for i in g.keys():\n",
    "        v[i]=False\n",
    "    v[e]=True\n",
    "    while len(q)!=0:\n",
    "        curr=q.pop(0)\n",
    "        print(curr)\n",
    "        for i in g[curr]:\n",
    "            if v[i[1]]==False:\n",
    "                q.append(i[1])\n",
    "                v[i[1]]=True\n",
    "l= {1: [(1, 2, 0), (1, 3, 0)], 2: [(2, 1, 0), (2, 5, 0)], 3: [(3, 4, 0), \n",
    "        (3, 6, 0)], 4: [(4, 3, 0)], 5: [(5, 2, 0), (5, 7, 0), (5, 10, 0),\n",
    "        (5, 13, 0)], 6: [(6, 3, 0), (6, 7, 0)], 7: [(7, 5, 0), (7, 6, 0), \n",
    "        (7, 8, 0), (7, 9, 0)], 8: [(8, 7, 0)], 9: [(9, 7, 0), (9, 12, 0)], \n",
    "        10: [(10, 5, 0), (10, 11, 0)], 11: [(11, 10, 0)], 12: [(12, 9, 0), \n",
    "        (12, 13, 0)], 13: [(13, 5, 0), (13, 12, 0)]}\n",
    "n=int(input())\n",
    "bfs(l,n)"
   ]
  },
  {
   "cell_type": "code",
   "execution_count": null,
   "id": "a860f7ff",
   "metadata": {},
   "outputs": [],
   "source": [
    "def bst(value,root)\n",
    "    if root==None:\n",
    "        root=node(value)\n",
    "    if root.data<value:\n",
    "        insert bts(value,root.left)\n",
    "    else:\n",
    "        insert bts(value,root.right)\n",
    "def preorder_traversal(root):\n",
    "    if root is None:\n",
    "        return []\n",
    "return [root.value] + preorder_traversal(root.left) + preorder_traversal(root.right)\n"
   ]
  },
  {
   "cell_type": "code",
   "execution_count": null,
   "id": "0ac722dd",
   "metadata": {},
   "outputs": [],
   "source": [
    "class Node:\n",
    "    def __init__(self,data):\n",
    "        self.value=data\n",
    "        self.right=None\n",
    "        self.left=None\n",
    "\n",
    "def inorder(root):\n",
    "    if root == None:\n",
    "        return\n",
    "    inorder(root.left)\n",
    "    print(root.value,end=' ')\n",
    "    inorder(root.right)\n",
    "\n",
    "\n",
    "def bst(root,val):\n",
    "    if root==None :\n",
    "        root = Node(val)\n",
    "        return root\n",
    "    if  val<root.value:\n",
    "        root.left=bst(root.left,val)\n",
    "    else:\n",
    "        root.right=bst(root.right,val)\n",
    "    return root\n",
    "    \n",
    "    \n",
    "if __name__ == \"__main__\":\n",
    "    n= list(map(int,input().split()))\n",
    "    node = Node(n[0])\n",
    "    for i in range(1,len(n)):\n",
    "        node=bst(node,n[i])\n",
    "    inorder(node)"
   ]
  },
  {
   "cell_type": "code",
   "execution_count": null,
   "id": "b27a5e81",
   "metadata": {},
   "outputs": [],
   "source": []
  }
 ],
 "metadata": {
  "kernelspec": {
   "display_name": "Python 3 (ipykernel)",
   "language": "python",
   "name": "python3"
  },
  "language_info": {
   "codemirror_mode": {
    "name": "ipython",
    "version": 3
   },
   "file_extension": ".py",
   "mimetype": "text/x-python",
   "name": "python",
   "nbconvert_exporter": "python",
   "pygments_lexer": "ipython3",
   "version": "3.9.13"
  }
 },
 "nbformat": 4,
 "nbformat_minor": 5
}
